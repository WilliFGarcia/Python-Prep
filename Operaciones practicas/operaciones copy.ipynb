{
 "cells": [
  {
   "cell_type": "code",
   "execution_count": 15,
   "metadata": {},
   "outputs": [
    {
     "name": "stdout",
     "output_type": "stream",
     "text": [
      "[4, 8, 12]\n",
      "[6, 12, 18]\n"
     ]
    }
   ],
   "source": [
    "numeros = [1, 2, 3, 4, 5, 6]\n",
    "pares_por_dos = [x * 2 for x in numeros if x % 2 == 0]\n",
    "print(pares_por_dos)\n",
    "pares_por_dos = [x*3 for x in numeros if x % 2 == 0]\n",
    "print(pares_por_dos)"
   ]
  },
  {
   "cell_type": "code",
   "execution_count": 12,
   "metadata": {},
   "outputs": [
    {
     "name": "stdout",
     "output_type": "stream",
     "text": [
      "['r', 'r', 'r', 'r']\n"
     ]
    },
    {
     "data": {
      "text/plain": [
       "4"
      ]
     },
     "execution_count": 12,
     "metadata": {},
     "output_type": "execute_result"
    }
   ],
   "source": [
    "frase = \"El perro de san roque no tiene rabo\"\n",
    "erres = [i for i in frase if i == 'r']\n",
    "print(erres)\n",
    "\"El perro de san roque no tiene rabo\".count('r')"
   ]
  },
  {
   "cell_type": "markdown",
   "metadata": {},
   "source": [
    "Ejercicios módulo # 7"
   ]
  },
  {
   "cell_type": "code",
   "execution_count": 4,
   "metadata": {},
   "outputs": [],
   "source": [
    "def calcular_area_rectangulo (base,altura):\n",
    "    area = base * altura\n",
    "    return area\n"
   ]
  },
  {
   "cell_type": "code",
   "execution_count": 5,
   "metadata": {},
   "outputs": [
    {
     "data": {
      "text/plain": [
       "64"
      ]
     },
     "execution_count": 5,
     "metadata": {},
     "output_type": "execute_result"
    }
   ],
   "source": [
    "calcular_area_rectangulo(8,8)"
   ]
  },
  {
   "cell_type": "code",
   "execution_count": 6,
   "metadata": {},
   "outputs": [],
   "source": [
    "def saludar (nombre, saludo=\"Hola\"):\n",
    "    print (saludo + \", \" + nombre)"
   ]
  },
  {
   "cell_type": "code",
   "execution_count": 8,
   "metadata": {},
   "outputs": [
    {
     "name": "stdout",
     "output_type": "stream",
     "text": [
      "Buenos días, Julian\n"
     ]
    }
   ],
   "source": [
    "saludar ('Julian', 'Buenos días')"
   ]
  },
  {
   "cell_type": "code",
   "execution_count": 7,
   "metadata": {},
   "outputs": [],
   "source": [
    "def imprimir_mensaje():\n",
    "    print(\"¡Hola, mundo!\")"
   ]
  },
  {
   "cell_type": "code",
   "execution_count": 9,
   "metadata": {},
   "outputs": [
    {
     "data": {
      "text/plain": [
       "<function __main__.imprimir_mensaje()>"
      ]
     },
     "execution_count": 9,
     "metadata": {},
     "output_type": "execute_result"
    }
   ],
   "source": [
    "imprimir_mensaje"
   ]
  },
  {
   "cell_type": "code",
   "execution_count": 10,
   "metadata": {},
   "outputs": [],
   "source": [
    "def sumar (sumando1, sumando2):\n",
    "    resultado = sumando1 + sumando2\n",
    "    return resultado"
   ]
  },
  {
   "cell_type": "code",
   "execution_count": 13,
   "metadata": {},
   "outputs": [
    {
     "data": {
      "text/plain": [
       "15"
      ]
     },
     "execution_count": 13,
     "metadata": {},
     "output_type": "execute_result"
    }
   ],
   "source": [
    "sumar(8,7)"
   ]
  },
  {
   "cell_type": "code",
   "execution_count": 14,
   "metadata": {},
   "outputs": [],
   "source": [
    "def dividir (dividendo, divisor):\n",
    "    cociente = dividendo // divisor\n",
    "    resto = dividendo % divisor\n",
    "    return cociente, resto"
   ]
  },
  {
   "cell_type": "code",
   "execution_count": 18,
   "metadata": {},
   "outputs": [
    {
     "data": {
      "text/plain": [
       "(4, 2)"
      ]
     },
     "execution_count": 18,
     "metadata": {},
     "output_type": "execute_result"
    }
   ],
   "source": [
    "dividir (18,4)"
   ]
  },
  {
   "cell_type": "markdown",
   "metadata": {},
   "source": [
    "Recursividad modulo # 7"
   ]
  },
  {
   "cell_type": "code",
   "execution_count": 39,
   "metadata": {},
   "outputs": [],
   "source": [
    "def factorial (numero) :\n",
    "    if (numero > 1):\n",
    "        numero = numero * factorial(numero - 1)\n",
    "    return numero"
   ]
  },
  {
   "cell_type": "code",
   "execution_count": 40,
   "metadata": {},
   "outputs": [
    {
     "data": {
      "text/plain": [
       "120"
      ]
     },
     "execution_count": 40,
     "metadata": {},
     "output_type": "execute_result"
    }
   ],
   "source": [
    "factorial(5)"
   ]
  },
  {
   "cell_type": "code",
   "execution_count": 41,
   "metadata": {},
   "outputs": [],
   "source": [
    "def factorial (numero):\n",
    "    '''\n",
    "    Calcula el factorial de un número\n",
    "    '''\n",
    "    if (numero>1):\n",
    "        numero = numero * factorial (numero -1)\n",
    "    return numero"
   ]
  },
  {
   "cell_type": "code",
   "execution_count": 42,
   "metadata": {},
   "outputs": [
    {
     "data": {
      "text/plain": [
       "40320"
      ]
     },
     "execution_count": 42,
     "metadata": {},
     "output_type": "execute_result"
    }
   ],
   "source": [
    "factorial (8)"
   ]
  },
  {
   "cell_type": "code",
   "execution_count": 43,
   "metadata": {},
   "outputs": [
    {
     "name": "stdout",
     "output_type": "stream",
     "text": [
      "Help on function factorial in module __main__:\n",
      "\n",
      "factorial(numero)\n",
      "    Calcula el factorial de un número\n",
      "\n"
     ]
    }
   ],
   "source": [
    "help(factorial)"
   ]
  },
  {
   "cell_type": "markdown",
   "metadata": {},
   "source": [
    "Pasajes de parametros por valor y referencia : Funciones lambda"
   ]
  },
  {
   "cell_type": "code",
   "execution_count": 3,
   "metadata": {},
   "outputs": [
    {
     "name": "stdout",
     "output_type": "stream",
     "text": [
      "[10, 20, 30, 40]\n"
     ]
    }
   ],
   "source": [
    "x = [10, 20, 30]\n",
    "def funcion (entrada):\n",
    "    entrada.append (40)\n",
    "funcion(x)\n",
    "print(x)\n"
   ]
  },
  {
   "cell_type": "code",
   "execution_count": 5,
   "metadata": {},
   "outputs": [
    {
     "name": "stdout",
     "output_type": "stream",
     "text": [
      "140722139554568\n"
     ]
    }
   ],
   "source": [
    "def funcion (entrada):\n",
    "    entrada = 0\n",
    "    print(id(entrada))\n",
    "funcion(x)"
   ]
  },
  {
   "cell_type": "code",
   "execution_count": 6,
   "metadata": {},
   "outputs": [
    {
     "name": "stdout",
     "output_type": "stream",
     "text": [
      "2267612100096\n"
     ]
    }
   ],
   "source": [
    "def funcion (entrada):\n",
    "    entrada.append(40)\n",
    "    print(id(entrada))\n",
    "funcion(x)"
   ]
  },
  {
   "cell_type": "code",
   "execution_count": 9,
   "metadata": {},
   "outputs": [
    {
     "data": {
      "text/plain": [
       "12"
      ]
     },
     "execution_count": 9,
     "metadata": {},
     "output_type": "execute_result"
    }
   ],
   "source": [
    "lambda_producto = lambda x, y: x*y\n",
    "lambda_producto (3,4)"
   ]
  },
  {
   "cell_type": "markdown",
   "metadata": {},
   "source": [
    "# Sintaxis de las clases"
   ]
  },
  {
   "cell_type": "code",
   "execution_count": 8,
   "metadata": {},
   "outputs": [],
   "source": [
    "class Gato:\n",
    "    def __init__(self, nombre, edad):\n",
    "                self.nombre = nombre\n",
    "                self.edad = edad\n",
    "                \n",
    "                "
   ]
  },
  {
   "cell_type": "code",
   "execution_count": 16,
   "metadata": {},
   "outputs": [],
   "source": [
    "class Gato:\n",
    "    def __init__(self, nombre, edad, raza, sexo):\n",
    "        self.nombre = nombre\n",
    "        self.edad = edad\n",
    "        self.raza = raza\n",
    "        self.sexo = sexo\n",
    "\n",
    "# Creamos el método presentar\n",
    "\n",
    "    def presentar(self):\n",
    "        return print('Mi nombre: ',self.nombre, 'Edad: ',self.edad, 'Raza: ',self.raza, 'Sexo: ',self.sexo)\n",
    "\n"
   ]
  },
  {
   "cell_type": "code",
   "execution_count": 25,
   "metadata": {},
   "outputs": [],
   "source": [
    "gato1 = Gato('Luna',8,'mezcla','Hembra')"
   ]
  },
  {
   "cell_type": "code",
   "execution_count": 8,
   "metadata": {},
   "outputs": [
    {
     "name": "stdout",
     "output_type": "stream",
     "text": [
      "<__main__.Gato object at 0x000001F1E39C70D0>\n"
     ]
    }
   ],
   "source": [
    "print(gato1)"
   ]
  },
  {
   "cell_type": "code",
   "execution_count": 26,
   "metadata": {},
   "outputs": [
    {
     "name": "stdout",
     "output_type": "stream",
     "text": [
      "Mi nombre:  Luna Edad:  8 Raza:  mezcla Sexo:  Hembra\n"
     ]
    }
   ],
   "source": [
    "gato1.presentar()"
   ]
  },
  {
   "cell_type": "markdown",
   "metadata": {},
   "source": [
    "# Pilares de la POO ......................................................................."
   ]
  },
  {
   "cell_type": "code",
   "execution_count": 19,
   "metadata": {},
   "outputs": [],
   "source": [
    "class CuentaBancaria:\n",
    "    def __init__(self, saldo):\n",
    "        self.saldo= saldo\n",
    "\n",
    "    def depositar(self, monto):\n",
    "        self.__saldo +=monto\n",
    "\n",
    "    def retirar(self, monto):\n",
    "        if self.__saldo <= monto:\n",
    "            self.__saldo -= monto\n",
    "        else:\n",
    "            print('Saldo Insuficiente')\n",
    "\n",
    "    def obtener_saldo (self):\n",
    "        return self.__saldo"
   ]
  },
  {
   "cell_type": "code",
   "execution_count": 20,
   "metadata": {},
   "outputs": [],
   "source": [
    "gato2= Gato('peluche', 5,'angora','Macho')"
   ]
  },
  {
   "cell_type": "code",
   "execution_count": 21,
   "metadata": {},
   "outputs": [
    {
     "name": "stdout",
     "output_type": "stream",
     "text": [
      "Mi nombre:  peluche Edad:  5 Raza:  angora Sexo:  Macho\n"
     ]
    }
   ],
   "source": [
    "gato2.presentar()"
   ]
  },
  {
   "cell_type": "markdown",
   "metadata": {},
   "source": [
    "Librerias módulo 1"
   ]
  },
  {
   "cell_type": "code",
   "execution_count": 1,
   "metadata": {},
   "outputs": [
    {
     "name": "stdout",
     "output_type": "stream",
     "text": [
      "9\n",
      "3\n"
     ]
    }
   ],
   "source": [
    "import mimodulo\n",
    "\n",
    "print(mimodulo.suma(4,5))\n",
    "print(mimodulo.resta(6,3))"
   ]
  },
  {
   "cell_type": "code",
   "execution_count": 3,
   "metadata": {},
   "outputs": [
    {
     "name": "stdout",
     "output_type": "stream",
     "text": [
      "20\n"
     ]
    }
   ],
   "source": [
    "from mimodulo import suma\n",
    "\n",
    "print(suma(6,14))"
   ]
  },
  {
   "cell_type": "code",
   "execution_count": 4,
   "metadata": {},
   "outputs": [
    {
     "name": "stdout",
     "output_type": "stream",
     "text": [
      "20\n"
     ]
    }
   ],
   "source": [
    "from mimodulo import resta\n",
    "\n",
    "print(resta(60,40))"
   ]
  },
  {
   "cell_type": "code",
   "execution_count": 5,
   "metadata": {},
   "outputs": [
    {
     "name": "stdout",
     "output_type": "stream",
     "text": [
      "40\n"
     ]
    }
   ],
   "source": [
    "from mimodulo import *\n",
    "\n",
    "print(resta(64,24))"
   ]
  },
  {
   "cell_type": "markdown",
   "metadata": {},
   "source": [
    "Librerias y módulo 2"
   ]
  },
  {
   "cell_type": "code",
   "execution_count": 8,
   "metadata": {},
   "outputs": [
    {
     "name": "stdout",
     "output_type": "stream",
     "text": [
      "['In', 'Out', '_', '__', '___', '__builtin__', '__builtins__', '__doc__', '__loader__', '__name__', '__package__', '__spec__', '__vsc_ipynb_file__', '_dh', '_i', '_i1', '_i2', '_i3', '_i4', '_i5', '_i6', '_i7', '_i8', '_ih', '_ii', '_iii', '_oh', 'exit', 'get_ipython', 'mi_variable', 'mifuncion', 'mimodulo', 'open', 'quit', 'resta', 'suma']\n"
     ]
    }
   ],
   "source": [
    "mi_variable = \"Python\"\n",
    "def mifuncion ():\n",
    "    pass\n",
    "print(dir())"
   ]
  },
  {
   "cell_type": "markdown",
   "metadata": {},
   "source": [
    "\n",
    "#challengue 09 Sep 2023\n"
   ]
  },
  {
   "cell_type": "code",
   "execution_count": 119,
   "metadata": {},
   "outputs": [
    {
     "name": "stdout",
     "output_type": "stream",
     "text": [
      "1100\n",
      "10\n",
      "1110\n"
     ]
    }
   ],
   "source": [
    "def numeroBinario(numero):\n",
    "    '''\n",
    "    Esta función recibe como argumento un número entero mayor ó igual a cero y lo devuelve en su \n",
    "    representación binaria. Debe recibir y devolver un valor de tipo entero.\n",
    "    En caso de que el parámetro no sea de tipo entero y mayor a -1 debe retornar nulo.\n",
    "    Recibe un argumento:\n",
    "        numero: Será el número que se convertirá a binario.\n",
    "    Ej:\n",
    "        NumeroBinario(12) debe retornar 1100\n",
    "        NumeroBinario(2) debe retornar 10\n",
    "        NumeroBinario(14) debe retornar 1110\n",
    "    '''\n",
    "    #Tu código aca:\n",
    "    \n",
    "    if isinstance(numero,int) and numero >= 0:\n",
    "        binario = bin(numero) [2:]\n",
    "        return int(binario)\n",
    "    else:\n",
    "        return None\n",
    "print(numeroBinario(12))\n",
    "print(numeroBinario(2))\n",
    "print(numeroBinario(14))\n",
    "   \n",
    "   \n"
   ]
  },
  {
   "cell_type": "code",
   "execution_count": 122,
   "metadata": {},
   "outputs": [
    {
     "name": "stdout",
     "output_type": "stream",
     "text": [
      "[2, 1, 1, -6]\n"
     ]
    }
   ],
   "source": [
    "def dividirMultiplicar(lista):\n",
    "   '''\n",
    "   La función recibe como argumento una lista de números enteros, y debe retornar una lista con los siguientes parámetros:\n",
    "   1.Los números que sean positivos y pares se deben dividir por 2, y el resultado expresado como entero (sin decimales, no redondeando, debe tomar sólo la parte entera de la división por 2).\n",
    "   2.Los números negativos multiplicados por 2.\n",
    "   3.Los que no cumplan los criterios anteriores deben quedar igual al valor original.\n",
    "   4.Ordernar los números de mayor a menor.\n",
    "   Ej: dividirMultiplicar([2,4,1,-3]): debe retornar: [2, 1, 1, -6]\n",
    "   '''   \n",
    "   #Tu código acá\n",
    "   resultado = []\n",
    "   for x in lista:\n",
    "      if x > 0 and x % 2 == 0:\n",
    "         resultado.append(x // 2)\n",
    "      elif x < 0:\n",
    "         resultado.append(x * 2)\n",
    "      else:\n",
    "         resultado.append(x)\n",
    "         \n",
    "   resultado.sort(reverse=True)\n",
    "\n",
    "   return resultado\n",
    "\n",
    "resultado = dividirMultiplicar([2, 4, 1, -3])\n",
    "print(resultado)                                                                                    \n",
    "   \n",
    "  "
   ]
  },
  {
   "cell_type": "code",
   "execution_count": 125,
   "metadata": {},
   "outputs": [
    {
     "name": "stdout",
     "output_type": "stream",
     "text": [
      "{'multiplos3': [3, 6, 12], 'cuadrados': [9, 36, 49, 144], 'menores_promedio': [3, 6]}\n"
     ]
    }
   ],
   "source": [
    "def crearDiccionario(lista):\n",
    "   '''\n",
    "   La función recibe como argumento una lista de números enteros, y debe retornar un diccionario con tres claves, \"multiplos3\", 'cuadrados\", \"menores_promedio\".\n",
    "   Para la clave \"multiplos3\", el valor debe ser una lista con los múltiplos de 3 de la lista original.\n",
    "   Para la clave \"cuadrados\", el valor debe ser una lista con los valores de la lista original elevados al cuadrado.\n",
    "   Para la clave \"menores_promedio\", el valor debe ser una lista con los valores menores al promedio de la lista original.\n",
    "   EJ: crearDiccionario([3,6,7,12]): debe retornar: {'multiplos3': [3, 6, 12], 'cuadrados': [9, 36, 49, 144], 'menores_promedio': [3, 6]}\n",
    "   '''\n",
    "   #Tu código acá\n",
    "   promedio = sum(lista) / len(lista)\n",
    "\n",
    "\n",
    "   multiplos3 = []\n",
    "   cuadrados = []\n",
    "   menores_promedio = []\n",
    "\n",
    "   for num in lista:\n",
    "      if num % 3 == 0:\n",
    "         multiplos3.append(num)\n",
    "      cuadrados.append(num ** 2)\n",
    "      if num < promedio:\n",
    "         menores_promedio.append(num)\n",
    "\n",
    "   resultado = {\n",
    "      'multiplos3': multiplos3,\n",
    "      'cuadrados': cuadrados,\n",
    "      'menores_promedio': menores_promedio\n",
    "   }\n",
    "   return resultado\n",
    "\n",
    "resultado = crearDiccionario([3, 6, 7, 12])\n",
    "print(resultado)"
   ]
  },
  {
   "cell_type": "code",
   "execution_count": 107,
   "metadata": {},
   "outputs": [
    {
     "name": "stdout",
     "output_type": "stream",
     "text": [
      "None\n",
      "False\n",
      "True\n"
     ]
    }
   ],
   "source": [
    "def trianguloRectangulo(a,b,c):\n",
    "   '''\n",
    "   La función debe recibir como argumentos el valor en cm de los lados de un triángulo (a y b son los catetos), y dado estos valores, retornar True si en efecto corresponden a un triángulo rectángulo, o False en caso contrario. Sólo se debe poder pasar valores enteros como argumentos de la función, caso contrario debe retornar nulo.\n",
    "   EJ: trianguloRectangulo(3.5,3.5,2.4), debe retornar nulo\n",
    "   EJ: trianguloRectangulo(3,3,3), debe retornar False\n",
    "   EJ: trianguloRectangulo(3,4,5), debe retornar True\n",
    "   '''\n",
    "   #Tu código acá\n",
    "   if not all(isinstance(x,int) for x in [a, b, c]):\n",
    "      return None\n",
    "   \n",
    "   if a**2 + b**2 == c**2 or a**2 + c**2 == b**2 or b**2 + c**2 == a**2:\n",
    "      return True\n",
    "   else:\n",
    "      return False\n",
    "   \n",
    "\n",
    "print(trianguloRectangulo(3.5, 3.5, 2.4))\n",
    "print(trianguloRectangulo(3, 3, 3))\n",
    "print(trianguloRectangulo(3, 4, 5))"
   ]
  },
  {
   "cell_type": "code",
   "execution_count": 133,
   "metadata": {},
   "outputs": [
    {
     "name": "stdout",
     "output_type": "stream",
     "text": [
      "[['São Paulo', 21048514], ['Santiago de Chile', 7112808], ['promedio', 14080661]]\n"
     ]
    }
   ],
   "source": [
    "import statistics\n",
    "\n",
    "def ciudadesPoblacion(diccionario):\n",
    "   '''\n",
    "   Dado el siguiente diccionario ciudades, la función debe retornar una lista de listas, donde cada elemento de la lista sea una lista con el par ['ciudad', población], pero sólo de las ciudades que comiencen con la letra 'B', y como último elemento de la lista el par ['promedio', promedio de población] con el promedio de población de las ciudades seleccionadas.\n",
    "   Ej: Si se pidiera ciudades que comiencen con la letra 'S', debe devolver: [['São Paulo', 21048514], ['Santiago de Chile', 7112808],['promedio', 14080661.0]]\n",
    "\n",
    "   ciudades = {\n",
    "      'São Paulo': 21048514,\n",
    "      'Buenos Aires': 14975587,\n",
    "      'Río de Janeiro': 11902701,\n",
    "      'Bogotá': 10777931,\n",
    "      'Lima': 10479899,\n",
    "      'Santiago de Chile': 7112808,\n",
    "      'Belo Horizonte': 6006091,\n",
    "      'Caracas': 5622798,\n",
    "      'Brasília': 4291577\n",
    "      }\n",
    "      Pista: investigar método de string startswith()\n",
    "   '''\n",
    "   #Tu código acá\n",
    "   ciudades_seleccionadas =[[ciudad, poblacion] for ciudad, poblacion in diccionario.items() if ciudad.startswith('S')]\n",
    "   promedio_poblacion = statistics.mean(poblacion for ciudad, poblacion in ciudades_seleccionadas)\n",
    "   ciudades_seleccionadas.append(['promedio', promedio_poblacion])\n",
    "   \n",
    "   return ciudades_seleccionadas\n",
    "\n",
    "ciudades = {\n",
    "      'São Paulo': 21048514,\n",
    "      'Buenos Aires': 14975587,\n",
    "      'Río de Janeiro': 11902701,\n",
    "      'Bogotá': 10777931,\n",
    "      'Lima': 10479899,\n",
    "      'Santiago de Chile': 7112808,\n",
    "      'Belo Horizonte': 6006091,\n",
    "      'Caracas': 5622798,\n",
    "      'Brasília': 4291577\n",
    "      }\n",
    "resultado = ciudadesPoblacion(ciudades)\n",
    "print(resultado)"
   ]
  },
  {
   "cell_type": "code",
   "execution_count": 140,
   "metadata": {},
   "outputs": [
    {
     "name": "stdout",
     "output_type": "stream",
     "text": [
      "[['São Paulo', 21048514], ['Santiago de Chile', 7112808], ['promedio', 14080661.0]]\n"
     ]
    }
   ],
   "source": [
    "def ciudadesPoblacion(diccionario):\n",
    "   '''\n",
    "   Dado el siguiente diccionario ciudades, la función debe retornar una lista de listas, donde cada elemento de la lista sea una lista con el par ['ciudad', población], pero sólo de las ciudades que comiencen con la letra 'B', y como último elemento de la lista el par ['promedio', promedio de población] con el promedio de población de las ciudades seleccionadas.\n",
    "   Ej: Si se pidiera ciudades que comiencen con la letra 'S', debe devolver: [['São Paulo', 21048514], ['Santiago de Chile', 7112808],['promedio', 14080661.0]]\n",
    "\n",
    "   ciudades = {\n",
    "      'São Paulo': 21048514,\n",
    "      'Buenos Aires': 14975587,\n",
    "      'Río de Janeiro': 11902701,\n",
    "      'Bogotá': 10777931,\n",
    "      'Lima': 10479899,\n",
    "      'Santiago de Chile': 7112808,\n",
    "      'Belo Horizonte': 6006091,\n",
    "      'Caracas': 5622798,\n",
    "      'Brasília': 4291577\n",
    "      }\n",
    "      Pista: investigar método de string startswith()\n",
    "   '''\n",
    "   #Tu código acá\n",
    "   ciudades_seleccionadas =[]\n",
    "\n",
    "   suma_poblacion = 0\n",
    "\n",
    "   for ciudad, poblacion in diccionario.items():\n",
    "      if ciudad.startswith('S'):\n",
    "          ciudades_seleccionadas.append([ciudad, poblacion])\n",
    "          suma_poblacion += poblacion\n",
    "\n",
    "   if len(ciudades_seleccionadas) > 0:\n",
    "      promedio_poblacion = suma_poblacion / len(ciudades_seleccionadas)\n",
    "   else:\n",
    "      promedio_poblacion = 0\n",
    "\n",
    "   ciudades_seleccionadas.append(['promedio', promedio_poblacion])\n",
    "   \n",
    "   return ciudades_seleccionadas\n",
    "\n",
    "ciudades = {\n",
    "      'São Paulo': 21048514,\n",
    "      'Buenos Aires': 14975587,\n",
    "      'Río de Janeiro': 11902701,\n",
    "      'Bogotá': 10777931,\n",
    "      'Lima': 10479899,\n",
    "      'Santiago de Chile': 7112808,\n",
    "      'Belo Horizonte': 6006091,\n",
    "      'Caracas': 5622798,\n",
    "      'Brasília': 4291577\n",
    "      }\n",
    "resultado = ciudadesPoblacion(ciudades)\n",
    "print(resultado)"
   ]
  },
  {
   "cell_type": "code",
   "execution_count": 114,
   "metadata": {},
   "outputs": [
    {
     "name": "stdout",
     "output_type": "stream",
     "text": [
      "casa-libro-saco\n",
      "None\n"
     ]
    }
   ],
   "source": [
    "def ordenarPalabras(palabras):\n",
    "   '''\n",
    "   La función recibe como argumento una secuencia de palabras unidas por guiones, y debe retornar las mismas palabras, unidas por guiones, pero en orden alfabético. Si el argumento que se le pasa no es un string o no contiene guiones, debe retornar nulo.\n",
    "   EJ: ordenarPalabras('saco-libro-casa') debe retornar 'casa-libro-saco'\n",
    "   EJ: ordenarPalabras('Hola') debe retornar nulo\n",
    "   Pista: investigar métodos de string\n",
    "   '''\n",
    "   #Tu código acá\n",
    "   if not isinstance(palabras, str) or '-'not in palabras:\n",
    "      return None\n",
    "   lista_palabras = palabras.split('-')\n",
    "   lista_palabras.sort()\n",
    "   resultado = '-'.join(lista_palabras)\n",
    "   \n",
    "   return resultado\n",
    "\n",
    "print(ordenarPalabras('saco-libro-casa'))\n",
    "print(ordenarPalabras('Hola'))\n"
   ]
  },
  {
   "cell_type": "code",
   "execution_count": 113,
   "metadata": {},
   "outputs": [
    {
     "name": "stdout",
     "output_type": "stream",
     "text": [
      "odnuM aloH\n",
      "None\n"
     ]
    }
   ],
   "source": [
    "\n",
    "def stringEspejo(texto):\n",
    "    '''\n",
    "    La función recibe como argumento una cadena de texto y retorna la cadena invertida, pero sólo si tiene más de tres caracteres, sino debe retornar nulo.\n",
    "    EJ: stringEspejo('Hola Mundo') debe retornar 'odnuM aloH'\n",
    "    EJ: stringEspejo('Hoy') debe retornar nulo\n",
    "    '''\n",
    "    #Tu código acá\n",
    "    if len (texto) > 3:\n",
    "        texto_invertido = texto[::-1]\n",
    "        return texto_invertido\n",
    "    else:\n",
    "        return None\n",
    "\n",
    "print(stringEspejo('Hola Mundo'))\n",
    "print(stringEspejo('Hoy'))"
   ]
  }
 ],
 "metadata": {
  "kernelspec": {
   "display_name": "Python 3",
   "language": "python",
   "name": "python3"
  },
  "language_info": {
   "codemirror_mode": {
    "name": "ipython",
    "version": 3
   },
   "file_extension": ".py",
   "mimetype": "text/x-python",
   "name": "python",
   "nbconvert_exporter": "python",
   "pygments_lexer": "ipython3",
   "version": "3.11.4"
  },
  "orig_nbformat": 4
 },
 "nbformat": 4,
 "nbformat_minor": 2
}
